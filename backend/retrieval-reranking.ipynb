{
 "cells": [
  {
   "cell_type": "code",
   "execution_count": 1,
   "metadata": {},
   "outputs": [
    {
     "name": "stderr",
     "output_type": "stream",
     "text": [
      "C:\\Users\\SOC\\AppData\\Local\\Packages\\PythonSoftwareFoundation.Python.3.11_qbz5n2kfra8p0\\LocalCache\\local-packages\\Python311\\site-packages\\tqdm\\auto.py:21: TqdmWarning: IProgress not found. Please update jupyter and ipywidgets. See https://ipywidgets.readthedocs.io/en/stable/user_install.html\n",
      "  from .autonotebook import tqdm as notebook_tqdm\n",
      "Some weights of BertForSequenceClassification were not initialized from the model checkpoint at indobenchmark/indobert-base-p1 and are newly initialized: ['classifier.bias', 'classifier.weight']\n",
      "You should probably TRAIN this model on a down-stream task to be able to use it for predictions and inference.\n"
     ]
    },
    {
     "name": "stdout",
     "output_type": "stream",
     "text": [
      "✅ Model dijalankan di device: cuda\n",
      "🟢 GPU Aktif: NVIDIA GeForce RTX 4060\n"
     ]
    },
    {
     "name": "stderr",
     "output_type": "stream",
     "text": [
      "Map: 100%|██████████| 6894/6894 [00:00<00:00, 9066.47 examples/s] \n",
      "Map: 100%|██████████| 1724/1724 [00:00<00:00, 10842.89 examples/s]\n",
      "C:\\Users\\SOC\\AppData\\Local\\Temp\\ipykernel_22636\\1885860747.py:81: FutureWarning: `tokenizer` is deprecated and will be removed in version 5.0.0 for `Trainer.__init__`. Use `processing_class` instead.\n",
      "  trainer = Trainer(\n"
     ]
    },
    {
     "data": {
      "text/html": [
       "\n",
       "    <div>\n",
       "      \n",
       "      <progress value='3017' max='4310' style='width:300px; height:20px; vertical-align: middle;'></progress>\n",
       "      [3017/4310 6:43:14 < 2:52:55, 0.12 it/s, Epoch 7/10]\n",
       "    </div>\n",
       "    <table border=\"1\" class=\"dataframe\">\n",
       "  <thead>\n",
       " <tr style=\"text-align: left;\">\n",
       "      <th>Epoch</th>\n",
       "      <th>Training Loss</th>\n",
       "      <th>Validation Loss</th>\n",
       "      <th>Accuracy</th>\n",
       "    </tr>\n",
       "  </thead>\n",
       "  <tbody>\n",
       "    <tr>\n",
       "      <td>1</td>\n",
       "      <td>0.259400</td>\n",
       "      <td>0.187694</td>\n",
       "      <td>0.937355</td>\n",
       "    </tr>\n",
       "    <tr>\n",
       "      <td>2</td>\n",
       "      <td>0.143300</td>\n",
       "      <td>0.214626</td>\n",
       "      <td>0.933875</td>\n",
       "    </tr>\n",
       "    <tr>\n",
       "      <td>3</td>\n",
       "      <td>0.092200</td>\n",
       "      <td>0.281054</td>\n",
       "      <td>0.948376</td>\n",
       "    </tr>\n",
       "    <tr>\n",
       "      <td>4</td>\n",
       "      <td>0.062100</td>\n",
       "      <td>0.281356</td>\n",
       "      <td>0.942575</td>\n",
       "    </tr>\n",
       "    <tr>\n",
       "      <td>5</td>\n",
       "      <td>0.040500</td>\n",
       "      <td>0.300416</td>\n",
       "      <td>0.952436</td>\n",
       "    </tr>\n",
       "    <tr>\n",
       "      <td>6</td>\n",
       "      <td>0.040000</td>\n",
       "      <td>0.329279</td>\n",
       "      <td>0.944896</td>\n",
       "    </tr>\n",
       "    <tr>\n",
       "      <td>7</td>\n",
       "      <td>0.028600</td>\n",
       "      <td>0.317605</td>\n",
       "      <td>0.948376</td>\n",
       "    </tr>\n",
       "  </tbody>\n",
       "</table><p>"
      ],
      "text/plain": [
       "<IPython.core.display.HTML object>"
      ]
     },
     "metadata": {},
     "output_type": "display_data"
    },
    {
     "data": {
      "text/plain": [
       "TrainOutput(global_step=3017, training_loss=0.09515880360917853, metrics={'train_runtime': 24207.7887, 'train_samples_per_second': 2.848, 'train_steps_per_second': 0.178, 'total_flos': 6348606654781440.0, 'train_loss': 0.09515880360917853, 'epoch': 7.0})"
      ]
     },
     "execution_count": 1,
     "metadata": {},
     "output_type": "execute_result"
    }
   ],
   "source": [
    "import pandas as pd\n",
    "import re\n",
    "import torch\n",
    "from sklearn.model_selection import train_test_split\n",
    "from sklearn.metrics import accuracy_score\n",
    "from transformers import (\n",
    "    AutoTokenizer, AutoModelForSequenceClassification,\n",
    "    Trainer, TrainingArguments, EarlyStoppingCallback\n",
    ")\n",
    "from datasets import Dataset\n",
    "from bert_score import score\n",
    "from sentence_transformers import SentenceTransformer, util\n",
    "import matplotlib.pyplot as plt\n",
    "import numpy as np\n",
    "\n",
    "# 1. Fungsi pembersih teks\n",
    "def clean_text(text):\n",
    "    text = text.lower()\n",
    "    text = re.sub(r'[^\\w\\s\\?\\.,]', '', text)\n",
    "    text = re.sub(r'\\s+', ' ', text)\n",
    "    return text.strip()\n",
    "\n",
    "# 2. Load dan bersihkan data\n",
    "df = pd.read_csv(\"data04.csv\")\n",
    "df['Pertanyaan'] = df['Pertanyaan'].astype(str).apply(clean_text)\n",
    "df['Jawaban'] = df['Jawaban'].astype(str).apply(clean_text)\n",
    "\n",
    "# 3. Buat pasangan positif-negatif\n",
    "data_pairs = []\n",
    "for idx, row in df.iterrows():\n",
    "    data_pairs.append({'text1': row['Pertanyaan'], 'text2': row['Jawaban'], 'label': 1})\n",
    "    neg = df.sample(n=1)\n",
    "    while neg.index[0] == idx:\n",
    "        neg = df.sample(n=1)\n",
    "    data_pairs.append({'text1': row['Pertanyaan'], 'text2': neg.iloc[0]['Jawaban'], 'label': 0})\n",
    "\n",
    "pair_df = pd.DataFrame(data_pairs)\n",
    "train_df, val_df = train_test_split(pair_df, test_size=0.2, random_state=42)\n",
    "\n",
    "# 4. Load tokenizer dan model IndoBERT\n",
    "model_name = \"indobenchmark/indobert-base-p1\"\n",
    "tokenizer = AutoTokenizer.from_pretrained(model_name)\n",
    "model = AutoModelForSequenceClassification.from_pretrained(model_name, num_labels=2)\n",
    "\n",
    "# Deteksi dan pindahkan model ke GPU\n",
    "device = torch.device(\"cuda\" if torch.cuda.is_available() else \"cpu\")\n",
    "model.to(device)\n",
    "print(\"✅ Model dijalankan di device:\", device)\n",
    "if torch.cuda.is_available():\n",
    "    print(\"🟢 GPU Aktif:\", torch.cuda.get_device_name(0))\n",
    "else:\n",
    "    print(\"🟡 GPU tidak tersedia, menggunakan CPU (lambat)\")\n",
    "\n",
    "# 5. Tokenisasi\n",
    "def tokenize(batch):\n",
    "    return tokenizer(batch['text1'], batch['text2'], truncation=True, padding='max_length', max_length=256)\n",
    "\n",
    "train_dataset = Dataset.from_pandas(train_df)\n",
    "val_dataset = Dataset.from_pandas(val_df)\n",
    "train_dataset = train_dataset.map(tokenize, batched=True).remove_columns(['text1', 'text2'])\n",
    "val_dataset = val_dataset.map(tokenize, batched=True).remove_columns(['text1', 'text2'])\n",
    "\n",
    "# 6. TrainingArguments + EarlyStopping + GPU support (fp16)\n",
    "training_args = TrainingArguments(\n",
    "    output_dir='./results',\n",
    "    eval_strategy=\"epoch\",\n",
    "    save_strategy=\"epoch\",\n",
    "    logging_strategy=\"epoch\",\n",
    "    load_best_model_at_end=True,\n",
    "    metric_for_best_model=\"accuracy\",\n",
    "    greater_is_better=True,\n",
    "    learning_rate=2e-5,\n",
    "    per_device_train_batch_size=16,\n",
    "    per_device_eval_batch_size=16,\n",
    "    num_train_epochs=10,\n",
    "    weight_decay=0.01,\n",
    "    logging_dir='./logs',\n",
    "    fp16=torch.cuda.is_available()  # hanya aktif jika ada GPU\n",
    ")\n",
    "\n",
    "trainer = Trainer(\n",
    "    model=model,\n",
    "    args=training_args,\n",
    "    train_dataset=train_dataset,\n",
    "    eval_dataset=val_dataset,\n",
    "    tokenizer=tokenizer,\n",
    "    callbacks=[EarlyStoppingCallback(early_stopping_patience=2)],\n",
    "    compute_metrics=lambda p: {\n",
    "        'accuracy': accuracy_score(p.label_ids, p.predictions.argmax(-1))\n",
    "    }\n",
    ")\n",
    "\n",
    "# 7. Jalankan training IndoBERT di GPU\n",
    "trainer.train()\n"
   ]
  },
  {
   "cell_type": "code",
   "execution_count": 2,
   "metadata": {},
   "outputs": [
    {
     "name": "stdout",
     "output_type": "stream",
     "text": [
      "✅ Model dan tokenizer disimpan di: ./model-data/indobert_qa_finetuned\n"
     ]
    }
   ],
   "source": [
    "import os\n",
    "\n",
    "# 8. Simpan model dan tokenizer yang sudah di-fine-tune\n",
    "save_path = \"./model-data/indobert_qa_finetuned\"\n",
    "\n",
    "# Buat direktori jika belum ada\n",
    "os.makedirs(save_path, exist_ok=True)\n",
    "\n",
    "# Simpan model dan tokenizer\n",
    "model.save_pretrained(save_path)\n",
    "tokenizer.save_pretrained(save_path)\n",
    "\n",
    "print(f\"✅ Model dan tokenizer disimpan di: {save_path}\")\n"
   ]
  }
 ],
 "metadata": {
  "kernelspec": {
   "display_name": "Python 3",
   "language": "python",
   "name": "python3"
  },
  "language_info": {
   "codemirror_mode": {
    "name": "ipython",
    "version": 3
   },
   "file_extension": ".py",
   "mimetype": "text/x-python",
   "name": "python",
   "nbconvert_exporter": "python",
   "pygments_lexer": "ipython3",
   "version": "3.11.9"
  }
 },
 "nbformat": 4,
 "nbformat_minor": 2
}
